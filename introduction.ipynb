{
 "cells": [
  {
   "cell_type": "markdown",
   "metadata": {},
   "source": [
    "# DATA ANALYST"
   ]
  },
  {
   "cell_type": "markdown",
   "metadata": {},
   "source": [
    "## Uses of Python in the area of ​​data analysis"
   ]
  },
  {
   "cell_type": "markdown",
   "metadata": {},
   "source": [
    "Python is a programming language used in data analysis to:\n",
    "- Easily manipulate and analyze data\n",
    "- Detect and adapt to different types of data in real time\n",
    "- Load, clean, and explore data.\n",
    "- Perform basic statistical analysis.\n",
    "- Automate tasks with scripts\n",
    "- Create informative and customized graphics.\n",
    "- Apply scientific computing\n",
    "- Simplify the manipulation and analysis of tabular data."
   ]
  },
  {
   "cell_type": "markdown",
   "metadata": {},
   "source": [
    "\n",
    "![como utilizar jupyter notebook](https://encrypted-tbn0.gstatic.com/images?q=tbn:ANd9GcR4fp_Td05i70WQ4MiuGagp4PQN6UNYeXZEKQ&s)"
   ]
  }
 ],
 "metadata": {
  "kernelspec": {
   "display_name": "Python 3",
   "language": "python",
   "name": "python3"
  },
  "language_info": {
   "codemirror_mode": {
    "name": "ipython",
    "version": 3
   },
   "file_extension": ".py",
   "mimetype": "text/x-python",
   "name": "python",
   "nbconvert_exporter": "python",
   "pygments_lexer": "ipython3",
   "version": "3.13.1"
  }
 },
 "nbformat": 4,
 "nbformat_minor": 2
}
